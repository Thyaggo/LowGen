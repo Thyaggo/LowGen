{
 "cells": [
  {
   "cell_type": "code",
   "execution_count": 1,
   "metadata": {
    "metadata": {}
   },
   "outputs": [],
   "source": [
    "import pickle\n",
    "import pandas as pd\n",
    "import torchaudio\n",
    "import torch\n",
    "import torch.nn as nn\n",
    "from torch.utils.data import Dataset\n",
    "from typing import Tuple\n",
    "\n",
    "from encodec import EncodecModel\n",
    "from encodec.utils import convert_audio\n",
    "from codebooks_patterns import DelayedPatternProvider\n",
    "\n",
    "from IPython.display import Audio\n",
    "\n",
    "data = pickle.load(open(\"data_path.pkl\",\"rb\"))\n",
    "DEVICE = \"cuda\" if torch.cuda.is_available() else \"cpu\""
   ]
  },
  {
   "cell_type": "code",
   "execution_count": 6,
   "metadata": {},
   "outputs": [
    {
     "data": {
      "text/plain": [
       "tensor([[[1, 1, 1, 1],\n",
       "         [2, 2, 2, 2],\n",
       "         [3, 3, 3, 3]],\n",
       "\n",
       "        [[1, 1, 1, 1],\n",
       "         [2, 2, 2, 2],\n",
       "         [3, 3, 3, 3]],\n",
       "\n",
       "        [[1, 1, 1, 1],\n",
       "         [2, 2, 2, 2],\n",
       "         [3, 3, 3, 3]]])"
      ]
     },
     "execution_count": 6,
     "metadata": {},
     "output_type": "execute_result"
    }
   ],
   "source": [
    "x = torch.tensor([[1,1,1,1], \n",
    "                  [2,2,2,2], \n",
    "                  [3,3,3,3]])\n",
    "\n",
    "torch.stack([x] * 3)"
   ]
  },
  {
   "cell_type": "code",
   "execution_count": 2,
   "metadata": {
    "metadata": {}
   },
   "outputs": [],
   "source": [
    "class LowDataset(Dataset):\n",
    "    def __init__(self, data_path: pd.DataFrame, stereo: bool = False, max_duration : int = 300 ,dir_inputs: str = \"data/inputs\", dir_labels: str = \"data/labels\", ):\n",
    "        super().__init__()\n",
    "        self.data_path = pickle.load(open(data_path,\"rb\"))\n",
    "        \n",
    "        if stereo:\n",
    "            self.model = EncodecModel.encodec_model_48khz().to(DEVICE)\n",
    "        else:\n",
    "            self.model = EncodecModel.encodec_model_24khz().to(DEVICE)\n",
    "\n",
    "        # The number of codebooks used will be determined bythe bandwidth selected.\n",
    "        # E.g. for a bandwidth of 6kbps, `n_q = 8` codebooks are used.\n",
    "        # Supported bandwidths are 1.5kbps (n_q = 2), 3 kbps (n_q = 4), 6 kbps (n_q = 8) and 12 kbps (n_q =16) and 24kbps (n_q=32).\n",
    "        # For the 48 kHz model, only 3, 6, 12, and 24 kbps are supported. The number\n",
    "        # of codebooks for each is half that of the 24 kHz model as the frame rate is twice as much.\n",
    "        \n",
    "        self.dir_inputs = dir_inputs\n",
    "        self.dir_labels = dir_labels\n",
    "        self.channels = 2 if stereo else 1\n",
    "        self.sample_rate = 48000 if stereo else 24000\n",
    "        self.mac_duration = max_duration\n",
    "        self.model.set_target_bandwidth(6.0)\n",
    "\n",
    "    def __len__(self) -> int:\n",
    "        return len(self.data_path)\n",
    "\n",
    "    def __getitem__(self, idx) -> Tuple[torch.Tensor]:\n",
    "        input_path = self.data_path.iloc[idx][\"input\"]\n",
    "        label_path = self.data_path.iloc[idx][\"label\"]\n",
    "        \n",
    "        input_wav, input_sr = torchaudio.load(f\"{self.dir_inputs}/{input_path}\")\n",
    "        label_wav, label_sr = torchaudio.load(f\"{self.dir_labels}/{label_path}\")\n",
    "        \n",
    "        input_wav = convert_audio(input_wav, input_sr, self.sample_rate, self.channels)\n",
    "        label_wav = convert_audio(label_wav, label_sr, self.sample_rate, self.channels)\n",
    "        \n",
    "        input_wav = self._pad_cut(input_wav, self.mac_duration, self.sample_rate)\n",
    "        label_wav = self._pad_cut(label_wav, self.mac_duration, self.sample_rate)\n",
    "        \n",
    "        input_codes = self._get_codes(input_wav)\n",
    "        label_codes = self._get_codes(label_wav)\n",
    "        \n",
    "        input_codes = self._pattern_provider(input_codes)\n",
    "        label_codes = self._pattern_provider(label_codes)\n",
    "        \n",
    "        #input_codes = self._padding_codes(input_codes, 1000)\n",
    "        #label_codes = self._padding_codes(label_codes, 1000)\n",
    "\n",
    "        return input_codes, label_codes, label_wav\n",
    "    \n",
    "    def _get_codes(self, wav: torch.Tensor) -> torch.Tensor:\n",
    "        with torch.no_grad():\n",
    "            frames = self.model.encode(wav.unsqueeze(0).to(DEVICE))\n",
    "        return torch.cat([encoded[0] for encoded in frames], dim=-1).squeeze(0)\n",
    "    \n",
    "    def _pattern_provider(self, wav: torch.Tensor, special_token: int = 1024) -> torch.Tensor:\n",
    "        K, T = wav.shape\n",
    "        pattern_provider = DelayedPatternProvider(K)\n",
    "        partern = pattern_provider.get_pattern(24020)\n",
    "        values , _ , _ = partern.build_pattern_sequence(wav.unsqueeze(0), special_token=special_token)\n",
    "        return values.squeeze()\n",
    "    \n",
    "    def _padding_codes(self, codes: torch.Tensor, max_len: int, padding_token : int = 1025) -> torch.Tensor:\n",
    "        K, T = codes.shape\n",
    "        if T < max_len:\n",
    "            pad = torch.full((K, max_len - T), padding_token)\n",
    "            codes = torch.cat([codes, pad], dim=-1)\n",
    "        return codes\n",
    "    \n",
    "    def _pad_cut(self, wav: torch.Tensor, max_len: int, sample_rate: int) -> torch.Tensor:\n",
    "        if wav.shape[-1] > sample_rate * max_len:\n",
    "            wav = wav[:, :max_len]\n",
    "        else:\n",
    "            pad = torch.zeros((1, (sample_rate * max_len) - wav.shape[-1]))\n",
    "            wav = torch.cat([wav, pad], dim=-1)\n",
    "        return wav"
   ]
  },
  {
   "cell_type": "code",
   "execution_count": 3,
   "metadata": {
    "metadata": {}
   },
   "outputs": [
    {
     "name": "stderr",
     "output_type": "stream",
     "text": [
      "/home/zeus/miniconda3/envs/cloudspace/lib/python3.10/site-packages/torch/nn/utils/weight_norm.py:30: UserWarning: torch.nn.utils.weight_norm is deprecated in favor of torch.nn.utils.parametrizations.weight_norm.\n",
      "  warnings.warn(\"torch.nn.utils.weight_norm is deprecated in favor of torch.nn.utils.parametrizations.weight_norm.\")\n"
     ]
    }
   ],
   "source": [
    "# Instantiate a pretrained EnCodec model\n",
    "# model = EncodecModel.encodec_model_24khz().to(DEVICE)\n",
    "# model.set_target_bandwidth(6.0)\n",
    "\n",
    "dataset = LowDataset(\"data_path.pkl\")\n",
    "wav = dataset.__getitem__(6)\n",
    "# # Load and pre-process the audio waveform\n",
    "# wav, sr = torchaudio.load(f\"data/inputs/{path}\")\n",
    "# print('Original File ',wav.shape)\n",
    "# wav = convert_audio(wav, sr, model.sample_rate, model.channels)\n",
    "# wavpt = wav.unsqueeze(0).to(device)\n",
    "# print('Modificated File ',wav.shape)"
   ]
  },
  {
   "cell_type": "code",
   "execution_count": 7,
   "metadata": {
    "metadata": {}
   },
   "outputs": [
    {
     "data": {
      "text/plain": [
       "tensor([[1024,   62,   62,  ..., 1024, 1024, 1024],\n",
       "        [1024, 1024,  913,  ..., 1024, 1024, 1024],\n",
       "        [1024, 1024, 1024,  ..., 1024, 1024, 1024],\n",
       "        ...,\n",
       "        [1024, 1024, 1024,  ..., 1024, 1024, 1024],\n",
       "        [1024, 1024, 1024,  ..., 1024, 1024, 1024],\n",
       "        [1024, 1024, 1024,  ..., 1024, 1024, 1024]])"
      ]
     },
     "execution_count": 7,
     "metadata": {},
     "output_type": "execute_result"
    }
   ],
   "source": [
    "wav[0]"
   ]
  },
  {
   "cell_type": "code",
   "execution_count": 5,
   "metadata": {},
   "outputs": [],
   "source": [
    "pattern_provider = DelayedPatternProvider(8)\n",
    "partern = pattern_provider.get_pattern(24020)"
   ]
  },
  {
   "cell_type": "code",
   "execution_count": 8,
   "metadata": {},
   "outputs": [
    {
     "data": {
      "text/plain": [
       "tensor([[[  62,   62,   62,  ..., 1024, 1024, 1024],\n",
       "         [ 913,  424,  424,  ..., 1024, 1024, 1024],\n",
       "         [ 786,  786,  786,  ..., 1024, 1024, 1024],\n",
       "         ...,\n",
       "         [1011,  986,  986,  ..., 1024, 1024, 1024],\n",
       "         [1002, 1002, 1002,  ..., 1024, 1024, 1024],\n",
       "         [ 948,  975,  948,  ..., 1024, 1024, 1024]]])"
      ]
     },
     "execution_count": 8,
     "metadata": {},
     "output_type": "execute_result"
    }
   ],
   "source": [
    "partern.revert_pattern_sequence(wav[0].unsqueeze(0).to(DEVICE), special_token=1024)[0]"
   ]
  },
  {
   "cell_type": "code",
   "execution_count": 18,
   "metadata": {},
   "outputs": [],
   "source": [
    "torchaudio.save(uri=\"resampling.mp3\", src=decoded[0].detach(), sample_rate=model.sample_rate)"
   ]
  },
  {
   "cell_type": "code",
   "execution_count": 5,
   "metadata": {},
   "outputs": [
    {
     "name": "stderr",
     "output_type": "stream",
     "text": [
      "/home/zeus/miniconda3/envs/cloudspace/lib/python3.10/site-packages/torch/nn/utils/weight_norm.py:30: UserWarning: torch.nn.utils.weight_norm is deprecated in favor of torch.nn.utils.parametrizations.weight_norm.\n",
      "  warnings.warn(\"torch.nn.utils.weight_norm is deprecated in favor of torch.nn.utils.parametrizations.weight_norm.\")\n"
     ]
    }
   ],
   "source": [
    "data_path = pickle.load(open(\"data_path.pkl\",\"rb\"))\n",
    "\n",
    "dir_inputs = \"data/inputs\"\n",
    "dir_labels = \"data/labels\"\n",
    "\n",
    "input_path = data_path.iloc[6][\"input\"]\n",
    "\n",
    "input_wav, input_sr = torchaudio.load(f\"{dir_inputs}/{input_path}\")\n",
    "\n",
    "input_wav = convert_audio(input_wav, input_sr, 24000, 1)\n",
    "\n",
    "model = EncodecModel.encodec_model_24khz().to(DEVICE)\n",
    "with torch.no_grad():\n",
    "    frames = model.encode(input_wav.unsqueeze(0).to(DEVICE))"
   ]
  },
  {
   "cell_type": "code",
   "execution_count": 23,
   "metadata": {},
   "outputs": [
    {
     "data": {
      "text/plain": [
       "(tensor([[[ 62,  62,  62,  ...,  62,  62,  62],\n",
       "          [913, 424, 424,  ..., 518, 518, 518],\n",
       "          [786, 786, 786,  ..., 786, 786, 786],\n",
       "          ...,\n",
       "          [639, 639, 639,  ..., 535, 535, 535],\n",
       "          [597, 534, 610,  ..., 474, 474, 474],\n",
       "          [611, 676, 683,  ..., 567, 567, 567]]]),\n",
       " None)"
      ]
     },
     "execution_count": 23,
     "metadata": {},
     "output_type": "execute_result"
    }
   ],
   "source": [
    "frames[0]"
   ]
  },
  {
   "cell_type": "code",
   "execution_count": 4,
   "metadata": {},
   "outputs": [],
   "source": [
    "data = LowDataset(data, device=device)"
   ]
  },
  {
   "cell_type": "code",
   "execution_count": 5,
   "metadata": {},
   "outputs": [
    {
     "name": "stderr",
     "output_type": "stream",
     "text": [
      "Warning: Xing stream size off by more than 1%, fuzzy seeking may be even more fuzzy than by design!\n"
     ]
    },
    {
     "data": {
      "text/plain": [
       "(tensor([[[ 442,  442,  790,  ...,  554,  158,  833],\n",
       "          [ 826,   40,  989,  ...,  489,  582,  408],\n",
       "          [ 925,  821,  573,  ...,  657,  113,  531],\n",
       "          [ 962,    0, 1012,  ...,  732,  798,  882]]]),\n",
       " tensor([[[214, 214, 214,  ..., 212, 445, 648],\n",
       "          [976, 976, 976,  ..., 398,  31,  73],\n",
       "          [925, 925, 925,  ..., 184, 370, 975],\n",
       "          [962, 962, 607,  ..., 716, 817, 817]]]))"
      ]
     },
     "execution_count": 5,
     "metadata": {},
     "output_type": "execute_result"
    }
   ],
   "source": [
    "data.__getitem__(20)"
   ]
  },
  {
   "cell_type": "code",
   "execution_count": null,
   "metadata": {},
   "outputs": [],
   "source": [
    "d = decoded_frames.cpu().detach()\n",
    "d = d.numpy().squeeze().shape"
   ]
  },
  {
   "cell_type": "code",
   "execution_count": null,
   "metadata": {},
   "outputs": [
    {
     "data": {
      "text/html": [
       "\n",
       "                <audio  controls=\"controls\" >\n",
       "                    <source src=\"data:audio/wav;base64,UklGRigAAABXQVZFZm10IBAAAAABAAEAgLsAAAB3AQACABAAZGF0YQQAAAAAAP9/\" type=\"audio/wav\" />\n",
       "                    Your browser does not support the audio element.\n",
       "                </audio>\n",
       "              "
      ],
      "text/plain": [
       "<IPython.lib.display.Audio object>"
      ]
     },
     "execution_count": 10,
     "metadata": {},
     "output_type": "execute_result"
    }
   ],
   "source": [
    "Audio(d, rate=model.sample_rate)"
   ]
  }
 ],
 "metadata": {
  "kernelspec": {
   "display_name": "Python 3",
   "language": "python",
   "name": "python3"
  },
  "language_info": {
   "codemirror_mode": {
    "name": "ipython",
    "version": 3
   },
   "file_extension": ".py",
   "mimetype": "text/x-python",
   "name": "python",
   "nbconvert_exporter": "python",
   "pygments_lexer": "ipython3",
   "version": "3.10.10"
  }
 },
 "nbformat": 4,
 "nbformat_minor": 4
}
